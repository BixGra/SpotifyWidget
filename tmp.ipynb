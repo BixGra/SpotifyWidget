{
 "cells": [
  {
   "cell_type": "code",
   "id": "initial_id",
   "metadata": {
    "collapsed": true,
    "ExecuteTime": {
     "end_time": "2024-11-30T14:04:45.283192Z",
     "start_time": "2024-11-30T14:04:45.278373Z"
    }
   },
   "source": [
    "from src.tools.database import Database\n",
    "\n",
    "database = Database()"
   ],
   "outputs": [],
   "execution_count": 1
  },
  {
   "metadata": {
    "ExecuteTime": {
     "end_time": "2024-11-30T14:04:50.947192Z",
     "start_time": "2024-11-30T14:04:50.936782Z"
    }
   },
   "cell_type": "code",
   "source": [
    "user_id = database.create_user(\"testse@test.test\", \"123\", \"456\")\n",
    "user_id"
   ],
   "id": "f1dca9169997c1d7",
   "outputs": [
    {
     "data": {
      "text/plain": [
       "'UC3VsVsn5795IgvV'"
      ]
     },
     "execution_count": 2,
     "metadata": {},
     "output_type": "execute_result"
    }
   ],
   "execution_count": 2
  },
  {
   "metadata": {
    "ExecuteTime": {
     "end_time": "2024-11-30T14:04:53.602054Z",
     "start_time": "2024-11-30T14:04:53.596909Z"
    }
   },
   "cell_type": "code",
   "source": [
    "check = database.exists_id(user_id)\n",
    "check"
   ],
   "id": "9c7ba2902907de8f",
   "outputs": [
    {
     "data": {
      "text/plain": [
       "True"
      ]
     },
     "execution_count": 3,
     "metadata": {},
     "output_type": "execute_result"
    }
   ],
   "execution_count": 3
  },
  {
   "metadata": {
    "ExecuteTime": {
     "end_time": "2024-11-30T14:04:58.442259Z",
     "start_time": "2024-11-30T14:04:58.436182Z"
    }
   },
   "cell_type": "code",
   "source": [
    "check = database.exists_id(\"ABCDE\")\n",
    "check"
   ],
   "id": "2194302ad4074ce2",
   "outputs": [
    {
     "data": {
      "text/plain": [
       "False"
      ]
     },
     "execution_count": 4,
     "metadata": {},
     "output_type": "execute_result"
    }
   ],
   "execution_count": 4
  },
  {
   "metadata": {
    "ExecuteTime": {
     "end_time": "2024-11-30T14:05:08.553152Z",
     "start_time": "2024-11-30T14:05:08.547262Z"
    }
   },
   "cell_type": "code",
   "source": [
    "check = database.exists_mail(\"user1@test.test\")\n",
    "check"
   ],
   "id": "193df95cee395f9d",
   "outputs": [
    {
     "data": {
      "text/plain": [
       "'QWDse20yBloCcIy2'"
      ]
     },
     "execution_count": 5,
     "metadata": {},
     "output_type": "execute_result"
    }
   ],
   "execution_count": 5
  }
 ],
 "metadata": {
  "kernelspec": {
   "display_name": "Python 3",
   "language": "python",
   "name": "python3"
  },
  "language_info": {
   "codemirror_mode": {
    "name": "ipython",
    "version": 2
   },
   "file_extension": ".py",
   "mimetype": "text/x-python",
   "name": "python",
   "nbconvert_exporter": "python",
   "pygments_lexer": "ipython2",
   "version": "2.7.6"
  }
 },
 "nbformat": 4,
 "nbformat_minor": 5
}
